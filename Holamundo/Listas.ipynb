{
 "cells": [
  {
   "cell_type": "code",
   "execution_count": 1,
   "id": "e66f5fa5",
   "metadata": {},
   "outputs": [],
   "source": [
    "list1 = [\"primer elemento\", \"segundo elemento\", \"tercer elemento\"]"
   ]
  },
  {
   "cell_type": "code",
   "execution_count": 2,
   "id": "df1469d5",
   "metadata": {},
   "outputs": [
    {
     "name": "stdout",
     "output_type": "stream",
     "text": [
      "tercer elemento\n"
     ]
    }
   ],
   "source": [
    "print(list1[2])"
   ]
  },
  {
   "cell_type": "code",
   "execution_count": 3,
   "id": "a0b9db46",
   "metadata": {},
   "outputs": [
    {
     "name": "stdout",
     "output_type": "stream",
     "text": [
      "segundo elemento\n"
     ]
    }
   ],
   "source": [
    "print(list1[2-1])"
   ]
  },
  {
   "cell_type": "code",
   "execution_count": 4,
   "id": "55f3694f",
   "metadata": {},
   "outputs": [
    {
     "name": "stdout",
     "output_type": "stream",
     "text": [
      "primer elemento\n"
     ]
    }
   ],
   "source": [
    "print(list1[0])"
   ]
  },
  {
   "cell_type": "code",
   "execution_count": 6,
   "id": "73c2989f",
   "metadata": {},
   "outputs": [],
   "source": [
    "#agregar un nuevo elemento"
   ]
  },
  {
   "cell_type": "code",
   "execution_count": 7,
   "id": "248c6deb",
   "metadata": {},
   "outputs": [],
   "source": [
    "list1.append(\"cuarto elemento\")"
   ]
  },
  {
   "cell_type": "code",
   "execution_count": 8,
   "id": "593c31c8",
   "metadata": {},
   "outputs": [
    {
     "name": "stdout",
     "output_type": "stream",
     "text": [
      "['primer elemento', 'segundo elemento', 'tercer elemento', 'cuarto elemento']\n"
     ]
    }
   ],
   "source": [
    "print(list1)"
   ]
  },
  {
   "cell_type": "code",
   "execution_count": 10,
   "id": "e1f8af50",
   "metadata": {},
   "outputs": [],
   "source": [
    "#lista con elementos multiples\n",
    "listmix = [\"primer elemento\", \"segundo elemento\", 3, 4, True]"
   ]
  },
  {
   "cell_type": "code",
   "execution_count": 11,
   "id": "59da5c40",
   "metadata": {},
   "outputs": [
    {
     "name": "stdout",
     "output_type": "stream",
     "text": [
      "4\n"
     ]
    }
   ],
   "source": [
    "print(listmix[3])"
   ]
  },
  {
   "cell_type": "code",
   "execution_count": 12,
   "id": "e32d1be9",
   "metadata": {},
   "outputs": [
    {
     "name": "stdout",
     "output_type": "stream",
     "text": [
      "primer elemento\n",
      "segundo elemento\n",
      "tercer elemento\n",
      "cuarto elemento\n"
     ]
    }
   ],
   "source": [
    "for i in list1:\n",
    "    print(i)"
   ]
  },
  {
   "cell_type": "code",
   "execution_count": 13,
   "id": "606d34b5",
   "metadata": {},
   "outputs": [
    {
     "name": "stdout",
     "output_type": "stream",
     "text": [
      "4\n"
     ]
    }
   ],
   "source": [
    "print(len(list1))"
   ]
  },
  {
   "cell_type": "code",
   "execution_count": 14,
   "id": "81eee702",
   "metadata": {},
   "outputs": [],
   "source": [
    "#vaciar lista\n",
    "listmix.clear()"
   ]
  },
  {
   "cell_type": "code",
   "execution_count": 15,
   "id": "6a6bd985",
   "metadata": {},
   "outputs": [
    {
     "name": "stdout",
     "output_type": "stream",
     "text": [
      "[]\n"
     ]
    }
   ],
   "source": [
    "print(listmix)"
   ]
  },
  {
   "cell_type": "code",
   "execution_count": null,
   "id": "581c729f",
   "metadata": {},
   "outputs": [],
   "source": []
  }
 ],
 "metadata": {
  "kernelspec": {
   "display_name": "Python 3 (ipykernel)",
   "language": "python",
   "name": "python3"
  },
  "language_info": {
   "codemirror_mode": {
    "name": "ipython",
    "version": 3
   },
   "file_extension": ".py",
   "mimetype": "text/x-python",
   "name": "python",
   "nbconvert_exporter": "python",
   "pygments_lexer": "ipython3",
   "version": "3.10.7"
  }
 },
 "nbformat": 4,
 "nbformat_minor": 5
}
