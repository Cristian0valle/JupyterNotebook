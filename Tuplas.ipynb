{
 "cells": [
  {
   "cell_type": "code",
   "execution_count": 1,
   "id": "95167b90",
   "metadata": {},
   "outputs": [],
   "source": [
    "list1 = (\"primer elemento\", \"segundo elemento\", \"tercer elemento\")"
   ]
  },
  {
   "cell_type": "code",
   "execution_count": 2,
   "id": "8805765a",
   "metadata": {},
   "outputs": [
    {
     "name": "stdout",
     "output_type": "stream",
     "text": [
      "('primer elemento', 'segundo elemento', 'tercer elemento')\n"
     ]
    }
   ],
   "source": [
    "print(list1)"
   ]
  },
  {
   "cell_type": "code",
   "execution_count": 7,
   "id": "d74e7a98",
   "metadata": {},
   "outputs": [
    {
     "name": "stdout",
     "output_type": "stream",
     "text": [
      "('segundo elemento',)\n"
     ]
    }
   ],
   "source": [
    "#busqueda\n",
    "print(list1[1:2])"
   ]
  },
  {
   "cell_type": "code",
   "execution_count": 8,
   "id": "c632c738",
   "metadata": {},
   "outputs": [
    {
     "name": "stdout",
     "output_type": "stream",
     "text": [
      "primer elemento\n",
      "segundo elemento\n",
      "tercer elemento\n"
     ]
    }
   ],
   "source": [
    "for i in (list1):\n",
    "    print(i)"
   ]
  },
  {
   "cell_type": "code",
   "execution_count": null,
   "id": "8678ec2d",
   "metadata": {},
   "outputs": [],
   "source": []
  }
 ],
 "metadata": {
  "kernelspec": {
   "display_name": "Python 3 (ipykernel)",
   "language": "python",
   "name": "python3"
  },
  "language_info": {
   "codemirror_mode": {
    "name": "ipython",
    "version": 3
   },
   "file_extension": ".py",
   "mimetype": "text/x-python",
   "name": "python",
   "nbconvert_exporter": "python",
   "pygments_lexer": "ipython3",
   "version": "3.10.7"
  }
 },
 "nbformat": 4,
 "nbformat_minor": 5
}
